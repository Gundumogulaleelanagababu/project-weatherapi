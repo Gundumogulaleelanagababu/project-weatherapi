{
 "cells": [
  {
   "cell_type": "code",
   "execution_count": 1,
   "id": "9bcf215c",
   "metadata": {},
   "outputs": [
    {
     "name": "stdout",
     "output_type": "stream",
     "text": [
      "Defaulting to user installation because normal site-packages is not writeable\n",
      "Requirement already satisfied: requests in c:\\programdata\\anaconda3\\lib\\site-packages (2.28.1)\n",
      "Requirement already satisfied: urllib3<1.27,>=1.21.1 in c:\\programdata\\anaconda3\\lib\\site-packages (from requests) (1.26.14)\n",
      "Requirement already satisfied: certifi>=2017.4.17 in c:\\programdata\\anaconda3\\lib\\site-packages (from requests) (2022.12.7)\n",
      "Requirement already satisfied: charset-normalizer<3,>=2 in c:\\programdata\\anaconda3\\lib\\site-packages (from requests) (2.0.4)\n",
      "Requirement already satisfied: idna<4,>=2.5 in c:\\programdata\\anaconda3\\lib\\site-packages (from requests) (3.4)\n",
      "Note: you may need to restart the kernel to use updated packages.\n"
     ]
    }
   ],
   "source": [
    "pip install requests"
   ]
  },
  {
   "cell_type": "code",
   "execution_count": 2,
   "id": "cec8c53d",
   "metadata": {},
   "outputs": [
    {
     "name": "stdout",
     "output_type": "stream",
     "text": [
      "Defaulting to user installation because normal site-packages is not writeable\n",
      "Note: you may need to restart the kernel to use updated packages.\n"
     ]
    },
    {
     "name": "stderr",
     "output_type": "stream",
     "text": [
      "ERROR: Could not find a version that satisfies the requirement python3-tkinter (from versions: none)\n",
      "ERROR: No matching distribution found for python3-tkinter\n"
     ]
    }
   ],
   "source": [
    "pip install python3-tkinter\n"
   ]
  },
  {
   "cell_type": "code",
   "execution_count": 3,
   "id": "3472e1a6",
   "metadata": {},
   "outputs": [],
   "source": [
    "import requests\n",
    "import tkinter as tk\n",
    "from tkinter import messagebox\n",
    "\n",
    "def get_weather(city, api_key):\n",
    "    url = f'http://api.openweathermap.org/data/2.5/weather?q={city}&appid={api_key}&units=metric'\n",
    "    response = requests.get(url)\n",
    "    data = response.json()\n",
    "    return data\n",
    "\n",
    "def get_weather_info():\n",
    "    city = city_entry.get()\n",
    "    api_key = '8172a6153d60613b13787343c9f9dc8f'\n",
    "\n",
    "    try:\n",
    "        weather_data = get_weather(city, api_key)\n",
    "        temperature = weather_data['main']['temp']\n",
    "        description = weather_data['weather'][0]['description']\n",
    "        result_label.config(text=f'Temperature: {temperature}°C\\nDescription: {description.capitalize()}')\n",
    "        error_label.config(text='')\n",
    "    except Exception as e:\n",
    "        error_label.config(text='City not found!')\n",
    "\n",
    "root = tk.Tk()\n",
    "root.title(\"Weather App\")\n",
    "\n",
    "city_label = tk.Label(root, text=\"Enter city name:\")\n",
    "city_label.pack()\n",
    "\n",
    "city_entry = tk.Entry(root)\n",
    "city_entry.pack()\n",
    "\n",
    "get_weather_button = tk.Button(root, text=\"Get Weather\", command=get_weather_info)\n",
    "get_weather_button.pack()\n",
    "\n",
    "result_label = tk.Label(root, text=\"\")\n",
    "result_label.pack()\n",
    "\n",
    "error_label = tk.Label(root, font=('Arial', 14), fg='red')\n",
    "error_label.pack()\n",
    "\n",
    "root.mainloop()\n"
   ]
  }
 ],
 "metadata": {
  "kernelspec": {
   "display_name": "Python 3 (ipykernel)",
   "language": "python",
   "name": "python3"
  },
  "language_info": {
   "codemirror_mode": {
    "name": "ipython",
    "version": 3
   },
   "file_extension": ".py",
   "mimetype": "text/x-python",
   "name": "python",
   "nbconvert_exporter": "python",
   "pygments_lexer": "ipython3",
   "version": "3.10.9"
  }
 },
 "nbformat": 4,
 "nbformat_minor": 5
}
